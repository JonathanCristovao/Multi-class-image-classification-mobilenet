{
 "cells": [
  {
   "cell_type": "markdown",
   "id": "57924cb3",
   "metadata": {},
   "source": [
    "## Orange diseases  classification model Test model\n",
    "\n",
    "In this notebook, we test the model trained with axelerate Keras-based framework for AI on the edge in tflite format.\n",
    "1) We used the sklean metrics to test the model confusion_matrix, classification_report: \n",
    "\n",
    "#####  the complete information of metrics are in the documentation:   https://scikit-learn.org/stable/index.html"
   ]
  },
  {
   "cell_type": "markdown",
   "id": "fa8f37fd",
   "metadata": {},
   "source": [
    "## Requirements\n",
    "\n",
    "- Tensorflow\n",
    "- scikit-learn\n",
    "- Numpy\n",
    "- os"
   ]
  },
  {
   "cell_type": "code",
   "execution_count": 49,
   "id": "99be7308",
   "metadata": {},
   "outputs": [],
   "source": [
    "# the command to install the scikit-learn and tensorflow library\n",
    "# there are other ways to install you can find them at:  \n",
    "#https://pypi.org/project/scikit-learn/\n",
    "# https://pypi.org/project/tensorflow/\n",
    "!pip install scikit-learn  \n",
    "!pip install tensorflow"
   ]
  },
  {
   "cell_type": "code",
   "execution_count": null,
   "id": "b55e99a4",
   "metadata": {},
   "outputs": [],
   "source": [
    "from sklearn.metrics import confusion_matrix, classification_report\n",
    "import tensorflow as tf\n",
    "import numpy as np\n",
    "import os"
   ]
  },
  {
   "cell_type": "code",
   "execution_count": 48,
   "id": "01dcd344",
   "metadata": {},
   "outputs": [
    {
     "name": "stdout",
     "output_type": "stream",
     "text": [
      "2.6.0\n",
      "1.19.5\n"
     ]
    }
   ],
   "source": [
    "print(tf.__version__)\n",
    "print(np.__version__)"
   ]
  },
  {
   "cell_type": "markdown",
   "id": "11e311bc",
   "metadata": {},
   "source": [
    "##### Read the model by training with tflite interpreter\n"
   ]
  },
  {
   "cell_type": "code",
   "execution_count": null,
   "id": "69fd4154",
   "metadata": {},
   "outputs": [],
   "source": [
    "interpreter = tf.lite.Interpreter(\"classifier_best_loss.tflite\")\n",
    "interpreter.allocate_tensors()\n",
    "\n",
    "# Get input and output tensors.\n",
    "input_details = interpreter.get_input_details()\n",
    "output_details = interpreter.get_output_details()"
   ]
  },
  {
   "cell_type": "code",
   "execution_count": 51,
   "id": "8a6abb2f",
   "metadata": {},
   "outputs": [],
   "source": [
    "class_counter = 0\n",
    "frame_counter = 0\n",
    "\n",
    "true_vec = []\n",
    "pred_vec = []\n",
    "\n",
    "\n",
    "path = 'dataset/canker' # path with citrus canker image \n",
    "dirlist = []\n",
    "dirlist = os.listdir(path)\n",
    "\n",
    "sm = 0\n",
    "for file in dirlist:\n",
    "\n",
    "    img = image.load_img(path+'/'+file, target_size=(224, 224)) #the format of image trained of model.tflite is [224,224]\n",
    "    orange = img_to_array(img)\n",
    "    orange = preprocess_input(orange)\n",
    "    orange = np.expand_dims(orange, axis=0)\n",
    "    interpreter.set_tensor(input_details[0]['index'],orange)\n",
    "    interpreter.invoke()\n",
    "    output_data = interpreter.get_tensor(output_details[0]['index'])\n",
    "    (cancro,frescas,grenning,pinta) = output_data[0]\n",
    "    if(frescas>cancro and frescas>pinta and frescas>grenning):\n",
    "        score = 1\n",
    "    elif(cancro>frescas and cancro>pinta and cancro>grenning):\n",
    "        score = 0\n",
    "    elif(pinta>frescas and pinta>cancro and pinta>grenning):\n",
    "        score = 3\n",
    "    else:\n",
    "        score = 2\n",
    "\n",
    "    sm += score\n",
    "    true_vec.append(0) # true vector class number 0\n",
    "    pred_vec.append(score)\n",
    "    #print(predict)\n",
    "    #cv2.imshow('imagem',cdist)\n",
    "\n",
    "path = 'dataset/fresh'\n",
    "dirlist = []\n",
    "dirlist = os.listdir(path)\n",
    "\n",
    "sm = 0\n",
    "for file in dirlist:\n",
    "\n",
    "    img = image.load_img(path+'/'+file, target_size=(224, 224))\n",
    "    orange = img_to_array(img)\n",
    "    orange = preprocess_input(orange)\n",
    "    orange = np.expand_dims(orange, axis=0)\n",
    "    interpreter.set_tensor(input_details[0]['index'],orange)\n",
    "    interpreter.invoke()\n",
    "    output_data = interpreter.get_tensor(output_details[0]['index'])\n",
    "    (cancro,frescas,grenning,pinta) = output_data[0]\n",
    "    if(frescas>cancro and frescas>pinta and frescas>grenning):\n",
    "        score = 1\n",
    "    elif(cancro>frescas and cancro>pinta and cancro>grenning):\n",
    "        score = 0\n",
    "    elif(pinta>frescas and pinta>cancro and pinta>grenning):\n",
    "        score = 3\n",
    "    else:\n",
    "        score = 2\n",
    "\n",
    "    sm += score\n",
    "    true_vec.append(1) # true vector class number 1\n",
    "    pred_vec.append(score)\n",
    "    #print(predict)\n",
    "    #cv2.imshow('imagem',cdist)\n",
    "\n",
    "path = 'dataset/grenning'\n",
    "dirlist = []\n",
    "dirlist = os.listdir(path)\n",
    "\n",
    "sm = 0\n",
    "for file in dirlist:\n",
    "\n",
    "    img = image.load_img(path+'/'+file, target_size=(224, 224))\n",
    "    orange = img_to_array(img)\n",
    "    orange = preprocess_input(orange)\n",
    "    orange = np.expand_dims(orange, axis=0)\n",
    "    interpreter.set_tensor(input_details[0]['index'],orange)\n",
    "    interpreter.invoke()\n",
    "    output_data = interpreter.get_tensor(output_details[0]['index'])\n",
    "    (cancro,frescas,grenning,pinta) = output_data[0]\n",
    "    if(frescas>cancro and frescas>pinta and frescas>grenning):\n",
    "        score = 1\n",
    "    elif(cancro>frescas and cancro>pinta and cancro>grenning):\n",
    "        score = 0\n",
    "    elif(pinta>frescas and pinta>cancro and pinta>grenning):\n",
    "        score = 3\n",
    "    else:\n",
    "        score = 2\n",
    "\n",
    "    sm += score\n",
    "    true_vec.append(2) # true vector class number 2\n",
    "    pred_vec.append(score)\n",
    "    #print(predict)\n",
    "    #cv2.imshow('imagem',cdist)\n",
    "\n",
    "path = 'dataset/blackspot'\n",
    "dirlist = []\n",
    "dirlist = os.listdir(path)\n",
    "\n",
    "sm = 0\n",
    "for file in dirlist:\n",
    "\n",
    "    img = image.load_img(path+'/'+file, target_size=(224, 224))\n",
    "    orange = img_to_array(img)\n",
    "    orange = preprocess_input(orange)\n",
    "    orange = np.expand_dims(orange, axis=0)\n",
    "    interpreter.set_tensor(input_details[0]['index'],orange)\n",
    "    interpreter.invoke()\n",
    "    output_data = interpreter.get_tensor(output_details[0]['index'])\n",
    "    (cancro,frescas,grenning,pinta) = output_data[0]\n",
    "    if(frescas>cancro and frescas>pinta and frescas>grenning):\n",
    "        score = 1\n",
    "    elif(cancro>frescas and cancro>pinta and cancro>grenning):\n",
    "        score = 0\n",
    "    elif(pinta>frescas and pinta>cancro and pinta>grenning):\n",
    "        score = 3\n",
    "    else:\n",
    "        score = 2\n",
    "\n",
    "    sm += score\n",
    "    true_vec.append(3) # true vector class number 3\n",
    "    pred_vec.append(score)\n",
    "    #print(predict)\n",
    "    #cv2.imshow('imagem',cdist)\n",
    "\n"
   ]
  },
  {
   "cell_type": "markdown",
   "id": "5ec4a28a",
   "metadata": {},
   "source": [
    "### Compute confusion matrix to evaluate the accuracy of a classification."
   ]
  },
  {
   "cell_type": "code",
   "execution_count": 52,
   "id": "653b965d",
   "metadata": {},
   "outputs": [
    {
     "name": "stdout",
     "output_type": "stream",
     "text": [
      "              precision    recall  f1-score   support\n",
      "\n",
      "      Canker       0.98      0.98      0.98       148\n",
      "       Fresh       1.00      1.00      1.00       164\n",
      "    Grenning       1.00      1.00      1.00       176\n",
      "  Black spot       0.98      0.98      0.98       138\n",
      "\n",
      "    accuracy                           0.99       626\n",
      "   macro avg       0.99      0.99      0.99       626\n",
      "weighted avg       0.99      0.99      0.99       626\n",
      "\n",
      "[[145   0   0   3]\n",
      " [  0 164   0   0]\n",
      " [  0   0 176   0]\n",
      " [  3   0   0 135]]\n"
     ]
    }
   ],
   "source": [
    "classes = ['Canker', 'Fresh','Grenning','Black spot']\n",
    "print(classification_report(true_vec, pred_vec, target_names=classes))\n",
    "print(confusion_matrix(true_vec, pred_vec))"
   ]
  },
  {
   "cell_type": "code",
   "execution_count": null,
   "id": "0fd89969",
   "metadata": {},
   "outputs": [],
   "source": []
  }
 ],
 "metadata": {
  "kernelspec": {
   "display_name": "Python 3",
   "language": "python",
   "name": "python3"
  },
  "language_info": {
   "codemirror_mode": {
    "name": "ipython",
    "version": 3
   },
   "file_extension": ".py",
   "mimetype": "text/x-python",
   "name": "python",
   "nbconvert_exporter": "python",
   "pygments_lexer": "ipython3",
   "version": "3.8.8"
  }
 },
 "nbformat": 4,
 "nbformat_minor": 5
}
