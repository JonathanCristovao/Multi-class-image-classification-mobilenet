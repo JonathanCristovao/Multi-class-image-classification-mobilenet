{
 "cells": [
  {
   "cell_type": "markdown",
   "id": "ae4b4210",
   "metadata": {},
   "source": [
    "###  Upload this notebook in google colab \n",
    "https://colab.research.google.com/?utm_source=scs-index"
   ]
  },
  {
   "cell_type": "code",
   "execution_count": null,
   "id": "40efb4d1",
   "metadata": {},
   "outputs": [],
   "source": [
    "from google.colab import drive\n",
    "drive.mount('/content/drive')"
   ]
  },
  {
   "cell_type": "markdown",
   "id": "8f87fc42",
   "metadata": {},
   "source": [
    "### Orange diseases  Classification model Training \n",
    "The classification model use axelerate Keras-based framework for AI on the edge to quickly set up model training.\n",
    "After training the model is converted to tflite and kmodel formats.\n",
    "\n",
    "More info of model used to training:  \n",
    "https://github.com/AIWintermuteAI/aXeleRate"
   ]
  },
  {
   "cell_type": "code",
   "execution_count": null,
   "id": "2448bdc8",
   "metadata": {},
   "outputs": [],
   "source": [
    "!pip uninstall -y imgaug && pip uninstall -y albumentations && pip install imgaug==0.4\n",
    "!git clone https://github.com/AIWintermuteAI/aXeleRate.git\n",
    "import sys\n",
    "sys.path.append('/content/aXeleRate')\n",
    "from axelerate import setup_training, setup_inference"
   ]
  },
  {
   "cell_type": "markdown",
   "id": "9fbf22b3",
   "metadata": {},
   "source": [
    "### Upload dataset in google drive\n",
    "- 1) https://www.kaggle.com/jonathansilva2020/orange-diseases-dataset/download\n",
    "- 2) extract .rar and upload folder \"dataset\" to google drive "
   ]
  },
  {
   "cell_type": "code",
   "execution_count": null,
   "id": "82aebfcf",
   "metadata": {},
   "outputs": [],
   "source": [
    "# visualize our classification validation dataset with visualize_dataset function.\n",
    "from axelerate.networks.common_utils.augment import visualize_classification_dataset\n",
    "visualize_classification_dataset('/content/drive/MyDrive/dataset/test', num_imgs=10, img_size=224, augment=True)"
   ]
  },
  {
   "cell_type": "markdown",
   "id": "f9f445c6",
   "metadata": {},
   "source": [
    "Next step is defining a config dictionary.\n",
    "- Type is model frontend: Classifier.\n",
    "- Architecture is model backend (feature extractor): MobileNet7_5 \n",
    "- Input size: 224\n",
    "- Fully_connected is number of neurons in classification layers as list: 100,50\n",
    "- Actual_epoch is number of epochs to train: 10\n",
    "- Dropout value is dropout in classification layers: 0.5\n",
    "\n",
    "This config convert trained model to formats with Edge TPU K210 and tflite."
   ]
  },
  {
   "cell_type": "code",
   "execution_count": null,
   "id": "d1708ba5",
   "metadata": {},
   "outputs": [],
   "source": [
    "config = {\n",
    "    \"model\" : {\n",
    "        \"type\":                 \"Classifier\",\n",
    "        \"architecture\":         \"MobileNet7_5\",\n",
    "        \"input_size\":           224,\n",
    "        \"fully-connected\":      [100,50],\n",
    "        \"labels\":               [],\n",
    "        \"dropout\" : \t\t0.5\n",
    "    },\n",
    "     \"weights\" : {\n",
    "            \"full\":   \t\t\t\t\"\",\n",
    "            \"backend\":   \t\t    \"imagenet\",\n",
    "            \"save_bottleneck\":      False\n",
    "        \n",
    "    },\n",
    "    \"train\" : {\n",
    "        \"actual_epoch\":         10,\n",
    "        \"train_image_folder\":    \"/content/drive/MyDrive/dataset/train\", \n",
    "        \"train_times\":          1,\n",
    "        \"valid_image_folder\":   \"/content/drive/MyDrive/dataset/test\",\n",
    "        \"valid_times\":          1,\n",
    "        \"valid_metric\":         \"val_accuracy\",\n",
    "        \"batch_size\":           32,\n",
    "        \"learning_rate\":        1e-3,\n",
    "        \"saved_folder\":   \t\t    \"\",\n",
    "        \"first_trainable_layer\": \"\",\n",
    "        \"augmentation\":\t\t\t\tTrue\n",
    "    },\n",
    "    \"converter\" : {\n",
    "        \"type\":   \t\t\t\t\t[\"k210\",\"tflite\"]\n",
    "    }\n",
    "}"
   ]
  },
  {
   "cell_type": "code",
   "execution_count": null,
   "id": "e45723d3",
   "metadata": {},
   "outputs": [],
   "source": [
    "from keras import backend as K \n",
    "K.clear_session()\n",
    "model_path = setup_training(config_dict=config)"
   ]
  }
 ],
 "metadata": {
  "kernelspec": {
   "display_name": "Python 3",
   "language": "python",
   "name": "python3"
  },
  "language_info": {
   "codemirror_mode": {
    "name": "ipython",
    "version": 3
   },
   "file_extension": ".py",
   "mimetype": "text/x-python",
   "name": "python",
   "nbconvert_exporter": "python",
   "pygments_lexer": "ipython3",
   "version": "3.8.8"
  }
 },
 "nbformat": 4,
 "nbformat_minor": 5
}
